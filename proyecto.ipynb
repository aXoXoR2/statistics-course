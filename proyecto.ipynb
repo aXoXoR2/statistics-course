{
 "cells": [
  {
   "cell_type": "markdown",
   "metadata": {},
   "source": [
    "# Proyecto 1. Estadística Descriptiva, Estimación y Prueba de Hipótesis\n",
    "\n",
    "## 1. De acuerdo a su set de datos*:\n",
    "\n",
    "a) Utilice los Estadísticos Descriptivos estudiados en la Conferencia 1. Para\n",
    "describir el comportamiento de tres de sus variables. Seleccione las que\n",
    "sean más importantes y explique porque seleccionó estas.\n",
    "\n",
    "b) Para cada muestra calcule los intervalos de confianza para la media y la\n",
    "varianza**\n",
    "\n",
    "c) Grafique los resultados***.\n",
    "\n",
    "d) Interprete los resultados en términos del problema.\n"
   ]
  },
  {
   "cell_type": "code",
   "execution_count": 19,
   "metadata": {},
   "outputs": [],
   "source": [
    "# Import neccesary libraries\n",
    "import pandas as pd\n",
    "import numpy as np"
   ]
  },
  {
   "cell_type": "code",
   "execution_count": 20,
   "metadata": {},
   "outputs": [
    {
     "data": {
      "text/html": [
       "<div>\n",
       "<style scoped>\n",
       "    .dataframe tbody tr th:only-of-type {\n",
       "        vertical-align: middle;\n",
       "    }\n",
       "\n",
       "    .dataframe tbody tr th {\n",
       "        vertical-align: top;\n",
       "    }\n",
       "\n",
       "    .dataframe thead th {\n",
       "        text-align: right;\n",
       "    }\n",
       "</style>\n",
       "<table border=\"1\" class=\"dataframe\">\n",
       "  <thead>\n",
       "    <tr style=\"text-align: right;\">\n",
       "      <th></th>\n",
       "      <th>ID</th>\n",
       "      <th>LongPosition</th>\n",
       "      <th>PrismCoeff</th>\n",
       "      <th>LengthDispRatio</th>\n",
       "      <th>BeamDraughtRatio</th>\n",
       "      <th>LengthBeamRatio</th>\n",
       "      <th>FroudeNumber</th>\n",
       "      <th>ResiduaryResistance</th>\n",
       "    </tr>\n",
       "  </thead>\n",
       "  <tbody>\n",
       "    <tr>\n",
       "      <th>0</th>\n",
       "      <td>1</td>\n",
       "      <td>-2.3</td>\n",
       "      <td>0.568</td>\n",
       "      <td>4.78</td>\n",
       "      <td>3.99</td>\n",
       "      <td>3.17</td>\n",
       "      <td>0.125</td>\n",
       "      <td>0.11</td>\n",
       "    </tr>\n",
       "    <tr>\n",
       "      <th>1</th>\n",
       "      <td>2</td>\n",
       "      <td>-2.3</td>\n",
       "      <td>0.568</td>\n",
       "      <td>4.78</td>\n",
       "      <td>3.99</td>\n",
       "      <td>3.17</td>\n",
       "      <td>0.150</td>\n",
       "      <td>0.27</td>\n",
       "    </tr>\n",
       "    <tr>\n",
       "      <th>2</th>\n",
       "      <td>3</td>\n",
       "      <td>-2.3</td>\n",
       "      <td>0.568</td>\n",
       "      <td>4.78</td>\n",
       "      <td>3.99</td>\n",
       "      <td>3.17</td>\n",
       "      <td>0.175</td>\n",
       "      <td>0.47</td>\n",
       "    </tr>\n",
       "    <tr>\n",
       "      <th>3</th>\n",
       "      <td>4</td>\n",
       "      <td>-2.3</td>\n",
       "      <td>0.568</td>\n",
       "      <td>4.78</td>\n",
       "      <td>3.99</td>\n",
       "      <td>3.17</td>\n",
       "      <td>0.200</td>\n",
       "      <td>0.78</td>\n",
       "    </tr>\n",
       "    <tr>\n",
       "      <th>4</th>\n",
       "      <td>5</td>\n",
       "      <td>-2.3</td>\n",
       "      <td>0.568</td>\n",
       "      <td>4.78</td>\n",
       "      <td>3.99</td>\n",
       "      <td>3.17</td>\n",
       "      <td>0.225</td>\n",
       "      <td>1.18</td>\n",
       "    </tr>\n",
       "  </tbody>\n",
       "</table>\n",
       "</div>"
      ],
      "text/plain": [
       "   ID  LongPosition  PrismCoeff  LengthDispRatio  BeamDraughtRatio  \\\n",
       "0   1          -2.3       0.568             4.78              3.99   \n",
       "1   2          -2.3       0.568             4.78              3.99   \n",
       "2   3          -2.3       0.568             4.78              3.99   \n",
       "3   4          -2.3       0.568             4.78              3.99   \n",
       "4   5          -2.3       0.568             4.78              3.99   \n",
       "\n",
       "   LengthBeamRatio  FroudeNumber  ResiduaryResistance  \n",
       "0             3.17         0.125                 0.11  \n",
       "1             3.17         0.150                 0.27  \n",
       "2             3.17         0.175                 0.47  \n",
       "3             3.17         0.200                 0.78  \n",
       "4             3.17         0.225                 1.18  "
      ]
     },
     "execution_count": 20,
     "metadata": {},
     "output_type": "execute_result"
    }
   ],
   "source": [
    "df = pd.read_csv('yatch.csv')\n",
    "df.head()"
   ]
  },
  {
   "cell_type": "code",
   "execution_count": 21,
   "metadata": {},
   "outputs": [
    {
     "data": {
      "text/html": [
       "<div>\n",
       "<style scoped>\n",
       "    .dataframe tbody tr th:only-of-type {\n",
       "        vertical-align: middle;\n",
       "    }\n",
       "\n",
       "    .dataframe tbody tr th {\n",
       "        vertical-align: top;\n",
       "    }\n",
       "\n",
       "    .dataframe thead th {\n",
       "        text-align: right;\n",
       "    }\n",
       "</style>\n",
       "<table border=\"1\" class=\"dataframe\">\n",
       "  <thead>\n",
       "    <tr style=\"text-align: right;\">\n",
       "      <th></th>\n",
       "      <th>ID</th>\n",
       "      <th>LongPosition</th>\n",
       "      <th>PrismCoeff</th>\n",
       "      <th>LengthDispRatio</th>\n",
       "      <th>BeamDraughtRatio</th>\n",
       "      <th>LengthBeamRatio</th>\n",
       "      <th>FroudeNumber</th>\n",
       "      <th>ResiduaryResistance</th>\n",
       "    </tr>\n",
       "  </thead>\n",
       "  <tbody>\n",
       "    <tr>\n",
       "      <th>count</th>\n",
       "      <td>308.000000</td>\n",
       "      <td>308.000000</td>\n",
       "      <td>308.000000</td>\n",
       "      <td>308.000000</td>\n",
       "      <td>308.000000</td>\n",
       "      <td>308.000000</td>\n",
       "      <td>308.000000</td>\n",
       "      <td>308.000000</td>\n",
       "    </tr>\n",
       "    <tr>\n",
       "      <th>mean</th>\n",
       "      <td>154.500000</td>\n",
       "      <td>-2.381818</td>\n",
       "      <td>0.564136</td>\n",
       "      <td>4.788636</td>\n",
       "      <td>3.936818</td>\n",
       "      <td>3.206818</td>\n",
       "      <td>0.287500</td>\n",
       "      <td>10.495357</td>\n",
       "    </tr>\n",
       "    <tr>\n",
       "      <th>std</th>\n",
       "      <td>89.056162</td>\n",
       "      <td>1.513219</td>\n",
       "      <td>0.023290</td>\n",
       "      <td>0.253057</td>\n",
       "      <td>0.548193</td>\n",
       "      <td>0.247998</td>\n",
       "      <td>0.100942</td>\n",
       "      <td>15.160490</td>\n",
       "    </tr>\n",
       "    <tr>\n",
       "      <th>min</th>\n",
       "      <td>1.000000</td>\n",
       "      <td>-5.000000</td>\n",
       "      <td>0.530000</td>\n",
       "      <td>4.340000</td>\n",
       "      <td>2.810000</td>\n",
       "      <td>2.730000</td>\n",
       "      <td>0.125000</td>\n",
       "      <td>0.010000</td>\n",
       "    </tr>\n",
       "    <tr>\n",
       "      <th>25%</th>\n",
       "      <td>77.750000</td>\n",
       "      <td>-2.400000</td>\n",
       "      <td>0.546000</td>\n",
       "      <td>4.770000</td>\n",
       "      <td>3.750000</td>\n",
       "      <td>3.150000</td>\n",
       "      <td>0.200000</td>\n",
       "      <td>0.777500</td>\n",
       "    </tr>\n",
       "    <tr>\n",
       "      <th>50%</th>\n",
       "      <td>154.500000</td>\n",
       "      <td>-2.300000</td>\n",
       "      <td>0.565000</td>\n",
       "      <td>4.780000</td>\n",
       "      <td>3.955000</td>\n",
       "      <td>3.150000</td>\n",
       "      <td>0.287500</td>\n",
       "      <td>3.065000</td>\n",
       "    </tr>\n",
       "    <tr>\n",
       "      <th>75%</th>\n",
       "      <td>231.250000</td>\n",
       "      <td>-2.300000</td>\n",
       "      <td>0.574000</td>\n",
       "      <td>5.100000</td>\n",
       "      <td>4.170000</td>\n",
       "      <td>3.510000</td>\n",
       "      <td>0.375000</td>\n",
       "      <td>12.815000</td>\n",
       "    </tr>\n",
       "    <tr>\n",
       "      <th>max</th>\n",
       "      <td>308.000000</td>\n",
       "      <td>0.000000</td>\n",
       "      <td>0.600000</td>\n",
       "      <td>5.140000</td>\n",
       "      <td>5.350000</td>\n",
       "      <td>3.640000</td>\n",
       "      <td>0.450000</td>\n",
       "      <td>62.420000</td>\n",
       "    </tr>\n",
       "  </tbody>\n",
       "</table>\n",
       "</div>"
      ],
      "text/plain": [
       "               ID  LongPosition  PrismCoeff  LengthDispRatio  \\\n",
       "count  308.000000    308.000000  308.000000       308.000000   \n",
       "mean   154.500000     -2.381818    0.564136         4.788636   \n",
       "std     89.056162      1.513219    0.023290         0.253057   \n",
       "min      1.000000     -5.000000    0.530000         4.340000   \n",
       "25%     77.750000     -2.400000    0.546000         4.770000   \n",
       "50%    154.500000     -2.300000    0.565000         4.780000   \n",
       "75%    231.250000     -2.300000    0.574000         5.100000   \n",
       "max    308.000000      0.000000    0.600000         5.140000   \n",
       "\n",
       "       BeamDraughtRatio  LengthBeamRatio  FroudeNumber  ResiduaryResistance  \n",
       "count        308.000000       308.000000    308.000000           308.000000  \n",
       "mean           3.936818         3.206818      0.287500            10.495357  \n",
       "std            0.548193         0.247998      0.100942            15.160490  \n",
       "min            2.810000         2.730000      0.125000             0.010000  \n",
       "25%            3.750000         3.150000      0.200000             0.777500  \n",
       "50%            3.955000         3.150000      0.287500             3.065000  \n",
       "75%            4.170000         3.510000      0.375000            12.815000  \n",
       "max            5.350000         3.640000      0.450000            62.420000  "
      ]
     },
     "execution_count": 21,
     "metadata": {},
     "output_type": "execute_result"
    }
   ],
   "source": [
    "df.describe()"
   ]
  },
  {
   "cell_type": "code",
   "execution_count": 22,
   "metadata": {},
   "outputs": [],
   "source": [
    "# LongPosition\n",
    "var_name = 'LongPosition'\n",
    "num_class = 11\n",
    "\n",
    "min_value = df[var_name].min()\n",
    "max_value = df[var_name].max()\n",
    "bins = np.linspace(min_value, max_value, num_class) \n",
    "labels = []\n",
    "for i in range(len(bins) - 1):\n",
    "    labels.append(f\"[{bins[i]:.2f}, {bins[i+1]:.2f}]\")"
   ]
  },
  {
   "cell_type": "code",
   "execution_count": 24,
   "metadata": {},
   "outputs": [
    {
     "data": {
      "text/plain": [
       "(array([196.,   0.,   0.,   0.,   0.,  56.,   0.,   0.,   0.,   0.,  56.]),\n",
       " array([0.        , 0.18181818, 0.36363636, 0.54545455, 0.72727273,\n",
       "        0.90909091, 1.09090909, 1.27272727, 1.45454545, 1.63636364,\n",
       "        1.81818182, 2.        ]),\n",
       " <BarContainer object of 11 artists>)"
      ]
     },
     "execution_count": 24,
     "metadata": {},
     "output_type": "execute_result"
    },
    {
     "data": {
      "image/png": "[encoded data removed]",
      "text/plain": [
       "<Figure size 432x288 with 1 Axes>"
      ]
     },
     "metadata": {
      "needs_background": "light"
     },
     "output_type": "display_data"
    }
   ],
   "source": [
    "\n",
    "df[f'{var_name}_bins'] = pd.cut(df[var_name], bins=bins, labels=labels, include_lowest=True)\n",
    "import matplotlib.pyplot as plt\n",
    "plt.hist(df[f'{var_name}_bins'], bins=len(bins))"
   ]
  },
  {
   "cell_type": "code",
   "execution_count": 27,
   "metadata": {},
   "outputs": [],
   "source": [
    "absolute_df = df[var_name].groupby(df[f'{var_name}_bins']).count()\n",
    "frecuency_df = df[var_name].groupby(df[f'{var_name}_bins']).count()/df.shape[0]"
   ]
  },
  {
   "cell_type": "code",
   "execution_count": 28,
   "metadata": {},
   "outputs": [
    {
     "data": {
      "text/plain": [
       "<AxesSubplot:xlabel='LongPosition_bins'>"
      ]
     },
     "execution_count": 28,
     "metadata": {},
     "output_type": "execute_result"
    },
    {
     "data": {
      "image/png": "[encoded data removed]",
      "text/plain": [
       "<Figure size 432x288 with 1 Axes>"
      ]
     },
     "metadata": {
      "needs_background": "light"
     },
     "output_type": "display_data"
    }
   ],
   "source": [
    "frecuency_df.plot(kind='bar')"
   ]
  },
  {
   "cell_type": "code",
   "execution_count": null,
   "metadata": {},
   "outputs": [],
   "source": []
  }
 ],
 "metadata": {
  "interpreter": {
   "hash": "916dbcbb3f70747c44a77c7bcd40155683ae19c65e1c03b4aa3499c5328201f1"
  },
  "kernelspec": {
   "display_name": "Python 3.7.3 64-bit",
   "language": "python",
   "name": "python3"
  },
  "language_info": {
   "codemirror_mode": {
    "name": "ipython",
    "version": 3
   },
   "file_extension": ".py",
   "mimetype": "text/x-python",
   "name": "python",
   "nbconvert_exporter": "python",
   "pygments_lexer": "ipython3",
   "version": "3.7.3"
  },
  "orig_nbformat": 4
 },
 "nbformat": 4,
 "nbformat_minor": 2
}
